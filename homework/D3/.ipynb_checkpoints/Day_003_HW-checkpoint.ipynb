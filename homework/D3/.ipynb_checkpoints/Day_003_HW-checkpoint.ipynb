{
 "cells": [
  {
   "cell_type": "code",
   "execution_count": null,
   "metadata": {},
   "outputs": [],
   "source": [
    "請至以下機器學習巨頭的 blog 參觀，試著閱讀一篇文章並分析其 \n",
    "\n",
    "文章: 亚马逊工程师分享：如何抓取、创建和构造高质量的数据集 \n",
    "\n",
    "作業 1：目標\n",
    "在網路尋找衣服商品資料，並且使用透過商品資訊、買家購買尺寸、買家反饋、評論等等，來推薦適合的衣服尺寸\n",
    "並且建立能夠提供有用資，以及分析效果的高品質數據集，\n",
    "\n",
    "作業 2：方法\n",
    "1. 透過google尋找適合的網購物網站(modcloth)，針對該網站提供的訊息評估使否有助於分析\n",
    "2. 再利用python的selenium 和BeautifulSoup抓取網站上的資料\n",
    "3. 排除意義不確定的資料\n",
    "4. 將尺寸資料標準化(例如美國尺碼和亞洲尺碼的大小不同)\n",
    "5. 最後將資料轉回csv或json格式，提供分析人員進行分析\n",
    "\n",
    "作業 3：資料來源 \n",
    "modcloth購物網站"
   ]
  }
 ],
 "metadata": {
  "kernelspec": {
   "display_name": "Python 3",
   "language": "python",
   "name": "python3"
  },
  "language_info": {
   "codemirror_mode": {
    "name": "ipython",
    "version": 3
   },
   "file_extension": ".py",
   "mimetype": "text/x-python",
   "name": "python",
   "nbconvert_exporter": "python",
   "pygments_lexer": "ipython3",
   "version": "3.6.8"
  }
 },
 "nbformat": 4,
 "nbformat_minor": 2
}
