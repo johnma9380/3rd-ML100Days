{
 "cells": [
  {
   "cell_type": "markdown",
   "metadata": {},
   "source": [
    "## 練習時間\n",
    "#### 請寫一個函式用來計算 Mean Square Error\n",
    "$ MSE = \\frac{1}{n}\\sum_{i=1}^{n}{(Y_i - \\hat{Y}_i)^2} $\n",
    "\n",
    "### Hint: [如何取平方](https://googoodesign.gitbooks.io/-ezpython/unit-1.html)"
   ]
  },
  {
   "cell_type": "markdown",
   "metadata": {},
   "source": [
    "# [作業目標]\n",
    "- 仿造範例的MAE函數, 自己寫一個MSE函數(參考上面公式)"
   ]
  },
  {
   "cell_type": "markdown",
   "metadata": {},
   "source": [
    "# [作業重點]\n",
    "- 注意程式的縮排\n",
    "- 是否能將數學公式, 轉換為 Python 的函式組合? (In[2], Out[2])"
   ]
  },
  {
   "cell_type": "code",
   "execution_count": 2,
   "metadata": {},
   "outputs": [],
   "source": [
    "# 載入基礎套件與代稱\n",
    "import numpy as np\n",
    "import matplotlib.pyplot as plt"
   ]
  },
  {
   "cell_type": "code",
   "execution_count": 7,
   "metadata": {},
   "outputs": [],
   "source": [
    "def mean_absolute_error(y, yp):\n",
    "    \"\"\"\n",
    "    計算 MAE\n",
    "    Args:\n",
    "        - y: 實際值\n",
    "        - yp: 預測值\n",
    "    Return:\n",
    "        - mae: MAE\n",
    "    \"\"\"\n",
    "    mae = MAE = sum(abs(y - yp)) / len(y)\n",
    "    return mae\n",
    "\n",
    "# 定義 mean_squared_error 這個函數, 計算並傳回 MSE\n",
    "def mean_squared_error(y, yp):\n",
    "    \"\"\"\n",
    "    請完成這個 Function 後往下執行\n",
    "    \"\"\"\n",
    "    mse = sum(np.square(y - yp))/ len(y)\n",
    "    return mse"
   ]
  },
  {
   "cell_type": "code",
   "execution_count": 4,
   "metadata": {},
   "outputs": [
    {
     "data": {
      "image/png": "[encoded data removed]",
      "text/plain": [
       "<Figure size 432x288 with 1 Axes>"
      ]
     },
     "metadata": {
      "needs_background": "light"
     },
     "output_type": "display_data"
    }
   ],
   "source": [
    "# 與範例相同, 不另外解說\n",
    "w = 3\n",
    "b = 0.5\n",
    "x_lin = np.linspace(0, 100, 101)\n",
    "y = (x_lin + np.random.randn(101) * 5) * w + b\n",
    "\n",
    "plt.plot(x_lin, y, 'b.', label = 'data points')\n",
    "plt.title(\"Assume we have data points\")\n",
    "plt.legend(loc = 2)\n",
    "plt.show()"
   ]
  },
  {
   "cell_type": "code",
   "execution_count": 5,
   "metadata": {},
   "outputs": [
    {
     "data": {
      "image/png": "[encoded data removed]",
      "text/plain": [
       "<Figure size 432x288 with 1 Axes>"
      ]
     },
     "metadata": {
      "needs_background": "light"
     },
     "output_type": "display_data"
    }
   ],
   "source": [
    "# 與範例相同, 不另外解說\n",
    "y_hat = x_lin * w + b\n",
    "plt.plot(x_lin, y, 'b.', label = 'data')\n",
    "plt.plot(x_lin, y_hat, 'r-', label = 'prediction')\n",
    "plt.title(\"Assume we have data points (And the prediction)\")\n",
    "plt.legend(loc = 2)\n",
    "plt.show()"
   ]
  },
  {
   "cell_type": "code",
   "execution_count": 8,
   "metadata": {},
   "outputs": [
    {
     "name": "stdout",
     "output_type": "stream",
     "text": [
      "The Mean squared error is 247.376\n",
      "The Mean absolute error is 13.007\n"
     ]
    }
   ],
   "source": [
    "# 執行 Function, 確認有沒有正常執行\n",
    "MSE = mean_squared_error(y, y_hat)\n",
    "MAE = mean_absolute_error(y, y_hat)\n",
    "print(\"The Mean squared error is %.3f\" % (MSE))\n",
    "print(\"The Mean absolute error is %.3f\" % (MAE))"
   ]
  },
  {
   "cell_type": "code",
   "execution_count": null,
   "metadata": {},
   "outputs": [],
   "source": [
    "# [作業2]\n",
    "\n",
    "請上 Kaggle, 在 Competitions 或 Dataset 中找一組競賽或資料並寫下：\n",
    "\n",
    "1. 你選的這組資料為何重要\n",
    "這組資料能讓我們了解影片內容並加以分析，目前我們在網路上能搜尋到的資料都僅限於文字記或這關鍵字比對，如果能夠將影片內容也變為可蒐尋的對象，\n",
    "這將帶來更多有幫助和有趣的應用，例如能夠建立一個影片匯集地提供給警察辦案或這讓想找到某個事件的人能夠搜尋到，\n",
    "或是在影片中放置廣告，能判斷該影片中的某些橋段並放入適合的互動廣告，增加廣告的轉換率等等....\n",
    "\n",
    "2. 資料從何而來 (tips: 譬如提供者是誰、以什麼方式蒐集)\n",
    "由google research提供，影片皆是YouTuBe的公開影片，為了公平起見testing data並不會公開\n",
    "\n",
    "3. 蒐集而來的資料型態為何\n",
    "這些資料皆是Youtube的影片，下載大小約1.5TB\n",
    "每個影片有一下資訊\n",
    "id: 每個影片的唯一ID，也是youtube的video id\n",
    "labels: 影片標籤\n",
    "    \n",
    "影片檔的格式為TFRecords format，每個影片的frame有rgb(長度1024)、audio音訊(長度128)\n",
    "\n",
    "4. 這組資料想解決的問題如何評估\n",
    "利用Mean Average Precision\n",
    "\n",
    "\n",
    "\n",
    "# [作業3]\n",
    "\n",
    "想像你經營一個自由載客車隊，你希望能透過數據分析以提升業績，請你思考並描述你如何規劃整體的分析/解決方案：\n",
    "\n",
    "1. 核心問題為何 (tips：如何定義 「提升業績 & 你的假設」)\n",
    "用戶的喜好程度\n",
    "-- 如何營造叫車速度快車源充沛的印象\n",
    "       提供司機叫車熱點資訊 以及蒐集活動與展覽的資訊，讓司機可以多到該地載客\n",
    "-- 司機評等與車輛安全追蹤\n",
    "       提供用戶對司機的評等，以及載客時的車輛追蹤，提升用戶安全感\n",
    "-- 分析用戶看到價格的行為反應\n",
    "       需要知道大部分用戶對乘車價格的基準，如何才能趕到經濟又實惠\n",
    "-- 提供平均抵達時間 & 最佳路徑\n",
    "       上用戶可以知道大概要多就會到達目的地，提供司機最佳路徑\n",
    "\n",
    "市場價格\n",
    "-- 根據叫車熱點程度調整價格\n",
    "       根據尖峰時段與叫車熱門地點，再搭配 競爭對手價格 與叫車人數 制定價格\n",
    "\n",
    "\n",
    "\n",
    "2. 資料從何而來 (tips：哪些資料可能會對你想問的問題產生影響 & 資料如何蒐集)\n",
    "叫車系統\n",
    "-- 叫車地點資料: 可分析哪些地方為叫車熱點\n",
    "-- 用戶操作行為，可知道大部分用戶對乘車價格心中的基準，如何才會感到經濟又實惠\n",
    "-- 透過別家APP取得載客價格\n",
    "\n",
    "google map\n",
    "-- 從google map取得平均抵達時間 與最佳行駛路徑\n",
    "\n",
    "活動資訊\n",
    "-- 網路爬蟲(活動名稱、時間、地點)\n",
    "\n",
    "\n",
    "3. 蒐集而來的資料型態為何\n",
    "-- 叫車地點: 座標\n",
    "-- 操作行為: 有順序的行為標籤 & 時間\n",
    "-- 載客價格: 時間、路線、距離、價格(數字)\n",
    "-- google路線\n",
    "\n",
    "\n",
    "4. 你要回答的問題，其如何評估 (tips：你的假設如何驗證)\n",
    "-- 預測熱點與活動地區 叫車數量 與真實叫車數量的差距\n",
    "-- 觀察載客數使否增加\n",
    "-- 觀察會員數量是否增加\n",
    "-- 觀察業績成長量\n",
    "\n",
    "\n"
   ]
  }
 ],
 "metadata": {
  "anaconda-cloud": {},
  "kernelspec": {
   "display_name": "Python 3",
   "language": "python",
   "name": "python3"
  },
  "language_info": {
   "codemirror_mode": {
    "name": "ipython",
    "version": 3
   },
   "file_extension": ".py",
   "mimetype": "text/x-python",
   "name": "python",
   "nbconvert_exporter": "python",
   "pygments_lexer": "ipython3",
   "version": "3.6.8"
  }
 },
 "nbformat": 4,
 "nbformat_minor": 1
}
