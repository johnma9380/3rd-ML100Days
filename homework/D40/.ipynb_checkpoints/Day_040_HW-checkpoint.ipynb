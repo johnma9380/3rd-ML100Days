{
 "cells": [
  {
   "cell_type": "markdown",
   "metadata": {},
   "source": [
    "## [作業重點]\n",
    "使用 Sklearn 中的 Lasso, Ridge 模型，來訓練各種資料集，務必了解送進去模型訓練的**資料型態**為何，也請了解模型中各項參數的意義。\n",
    "\n",
    "機器學習的模型非常多種，但要訓練的資料多半有固定的格式，確保你了解訓練資料的格式為何，這樣在應用新模型時，就能夠最快的上手開始訓練！"
   ]
  },
  {
   "cell_type": "markdown",
   "metadata": {},
   "source": [
    "## 練習時間\n",
    "試著使用 sklearn datasets 的其他資料集 (boston, ...)，來訓練自己的線性迴歸模型，並加上適當的正則化來觀察訓練情形。"
   ]
  },
  {
   "cell_type": "code",
   "execution_count": 21,
   "metadata": {},
   "outputs": [],
   "source": [
    "import numpy as np\n",
    "import matplotlib.pyplot as plt\n",
    "from sklearn import datasets, linear_model\n",
    "from sklearn.model_selection import train_test_split\n",
    "from sklearn.metrics import mean_squared_error, r2_score\n",
    "\n",
    "bostons = datasets.load_boston()"
   ]
  },
  {
   "cell_type": "code",
   "execution_count": 24,
   "metadata": {},
   "outputs": [
    {
     "name": "stdout",
     "output_type": "stream",
     "text": [
      "[-1.15966452e-01  4.71249231e-02  8.25980146e-03  3.23404531e+00\n",
      " -1.66865890e+01  3.88410651e+00 -1.08974442e-02 -1.54129540e+00\n",
      "  2.93208309e-01 -1.34059383e-02 -9.06296429e-01  8.80823439e-03\n",
      " -4.57723846e-01]\n"
     ]
    }
   ],
   "source": [
    "# 切分訓練集/測試集\n",
    "x_train, x_test, y_train, y_test = train_test_split(bostons.data, bostons.target, test_size=0.2, random_state=4)\n",
    "\n",
    "# 建立一個線性回歸模型\n",
    "regr = linear_model.LinearRegression()\n",
    "\n",
    "# 將訓練資料丟進去模型訓練\n",
    "regr.fit(x_train, y_train)\n",
    "\n",
    "# 將測試資料丟進模型得到預測結果\n",
    "y_pred = regr.predict(x_test)\n",
    "\n",
    "print(regr.coef_)"
   ]
  },
  {
   "cell_type": "code",
   "execution_count": 25,
   "metadata": {},
   "outputs": [
    {
     "name": "stdout",
     "output_type": "stream",
     "text": [
      "Mean squared error: 25.42\n"
     ]
    }
   ],
   "source": [
    "# 預測值與實際值的差距，使用 MSE\n",
    "print(\"Mean squared error: %.2f\"\n",
    "      % mean_squared_error(y_test, y_pred))"
   ]
  },
  {
   "cell_type": "code",
   "execution_count": 19,
   "metadata": {},
   "outputs": [
    {
     "name": "stdout",
     "output_type": "stream",
     "text": [
      "[[8.66400e-02 4.50000e+01 3.44000e+00 ... 1.52000e+01 3.90490e+02\n",
      "  2.87000e+00]\n",
      " [2.49800e-01 0.00000e+00 2.18900e+01 ... 2.12000e+01 3.92040e+02\n",
      "  2.13200e+01]\n",
      " [2.14090e-01 2.20000e+01 5.86000e+00 ... 1.91000e+01 3.77070e+02\n",
      "  3.59000e+00]\n",
      " ...\n",
      " [9.39063e+00 0.00000e+00 1.81000e+01 ... 2.02000e+01 3.96900e+02\n",
      "  2.28800e+01]\n",
      " [8.44700e-02 0.00000e+00 4.05000e+00 ... 1.66000e+01 3.93230e+02\n",
      "  9.64000e+00]\n",
      " [9.29900e-02 0.00000e+00 2.56500e+01 ... 1.91000e+01 3.78090e+02\n",
      "  1.79300e+01]]\n",
      "[36.4 13.3 24.8 20.4 44.  29.  39.8 22.9 23.  15.3 23.7 30.5 33.2 26.4\n",
      " 50.  14.2  8.1 16.  20.   8.5 23.7 26.4 18.5 20.  50.  13.4 13.1 12.7\n",
      " 50.  15.6 50.  29.4 42.8 21.7 11.8 24.8 19.4 17.5 13.4 13.9 24.5 15.\n",
      " 13.8 23.1 12.5 14.9 21.9 18.5 30.8 14.6 23.9 18.2 21.7 13.5 50.  23.1\n",
      " 48.8 13.8 20.1 50.  34.9  8.4 15.2 23.  24.7 25.3 17.2 50.  22.9 20.2\n",
      " 17.4 19.5 18.5 14.  22.6 14.1 15.6 46.  20.5 13.5 10.4 21.4 21.6 23.2\n",
      " 23.  17.6 16.1  5.   8.3 27.5 18.7 21.7 30.7  5.  11.3  7.  32.9 14.6\n",
      " 12.  28.1 18.   5.6 23.6 24.7 22.5 17.7 13.1 23.1 25.  14.9  9.7 22.8\n",
      " 22.  23.6 14.3 18.8 19.9 13.6 19.4 16.8 20.  43.1 27.9 20.1 19.  19.2\n",
      " 21.7 33.1 50.  33.2 20.1 21.1  8.8 12.3 14.5 23.8 18.7 21.8 21.9 21.7\n",
      " 17.1 23.1 36.1 28.2 11.5 19.  22.  10.5 21.4 16.5 20.6 23.3 23.5 15.\n",
      " 26.5 50.  10.5 17.5 13.6 17.2 19.1 16.4 20.6 20.9 30.1 20.7 22.2 24.6\n",
      " 25.2 37.9 20.1 29.6 18.7 23.  22.9 24.6 24.8 20.8 22.4 18.2 14.4 23.2\n",
      " 13.  19.7 21.2 21.7 24.  22.  20.6 11.9 24.3 23.8 22.8 13.3 25.  21.\n",
      " 20.4 33.1 48.3 14.5 36.  22.6 18.4 18.9 12.6 15.2 24.1 29.9 23.9 31.6\n",
      " 11.7 20.3 16.6 22.2 26.6 36.2 28.4 20.8 15.4 50.  18.1 23.1 21.5 13.1\n",
      " 21.8  8.5 15.6 26.2 32.2  9.6 31.6 17.8 34.7 20.  21.  22.7 28.7 23.9\n",
      " 35.4 13.2 18.3 13.1 23.1 20.6  7.  13.4 24.1 30.1 20.3 15.6 26.6 15.\n",
      " 37.2 27.1 24.4 17.8 19.8 10.2 23.1 37.3 23.2 19.1 19.6 38.7 25.  23.7\n",
      " 22.8 16.2 20.3 24.3 21.2 19.3 20.6 21.4 14.4 19.9 16.2 22.5 19.1 17.8\n",
      " 30.1 14.8 35.2 29.  25.1 21.5  8.3 22.  44.8 24.5 34.9 17.2 33.8 19.6\n",
      " 14.1  8.4 33.3 23.4 21.4 18.9 21.2  7.2 27.1 14.5 10.4 21.4 14.1 10.2\n",
      " 24.3 18.6 18.9 10.9 24.4 19.3 25.  36.5 20.5 20.4 19.6 27.9 21.1 26.6\n",
      " 10.8 36.2 34.9 31.5 31.7 34.6 17.8 29.8 35.1 17.1 13.4 37.  15.2 27.5\n",
      " 18.5 19.6 23.2 32.  23.4 28.7 22.  13.8 19.7 20.9 17.1 28.4 43.8 22.5\n",
      " 50.  50.  33.4 17.9 25.  22.3 50.   9.5 10.2 23.7 23.8  7.5 23.9 18.4\n",
      " 20.4 19.4 17.4 12.7 13.8 22.  29.1 24.7 20.8 24.1 15.4 19.6 32.5 24.\n",
      "  7.4 25.  15.7 21.7 21.2 11.7 22.7 16.8 21.6 23.9 22.1 20.6 19.4 22.6\n",
      " 29.6 23.3 13.8 33.4 12.7 22.2 25.   7.2 30.3 12.8 22.6 20.5]\n"
     ]
    }
   ],
   "source": [
    "plt.scatter(x_train, y_train,  color='blue', marker = 'x')\n",
    "plt.plot(x_train, regr.predict(x_train), color='green', linewidth=1)\n",
    "plt.show()\n",
    "\n"
   ]
  },
  {
   "cell_type": "code",
   "execution_count": 58,
   "metadata": {},
   "outputs": [
    {
     "data": {
      "text/plain": [
       "array([-0.06494981,  0.04581458, -0.        ,  0.        , -0.        ,\n",
       "        1.18140024,  0.01109101, -0.73695809,  0.23350042, -0.01551065,\n",
       "       -0.69270805,  0.00763157, -0.6927848 ])"
      ]
     },
     "execution_count": 58,
     "metadata": {},
     "output_type": "execute_result"
    }
   ],
   "source": [
    "# lasso\n",
    "# 建立一個線性回歸模型\n",
    "lasso = linear_model.Lasso(alpha=1)\n",
    "\n",
    "# 將訓練資料丟進去模型訓練\n",
    "lasso.fit(x_train, y_train)\n",
    "\n",
    "# 將測試資料丟進模型得到預測結果\n",
    "y_pred = lasso.predict(x_test)\n",
    "# 印出各特徵對應的係數，可以看到許多係數都變成 0，Lasso Regression 的確可以做特徵選取\n",
    "lasso.coef_"
   ]
  },
  {
   "cell_type": "code",
   "execution_count": 59,
   "metadata": {},
   "outputs": [
    {
     "name": "stdout",
     "output_type": "stream",
     "text": [
      "Mean squared error: 28.95\n"
     ]
    }
   ],
   "source": [
    "# 預測值與實際值的差距，使用 MSE\n",
    "print(\"Mean squared error: %.2f\"\n",
    "      % mean_squared_error(y_test, y_pred))"
   ]
  },
  {
   "cell_type": "code",
   "execution_count": 55,
   "metadata": {},
   "outputs": [
    {
     "name": "stdout",
     "output_type": "stream",
     "text": [
      "alpha的数值 :  8.444497524752475\n"
     ]
    },
    {
     "name": "stderr",
     "output_type": "stream",
     "text": [
      "C:\\Users\\johnma\\Anaconda3\\lib\\site-packages\\sklearn\\model_selection\\_split.py:1978: FutureWarning: The default value of cv will change from 3 to 5 in version 0.22. Specify it explicitly to silence this warning.\n",
      "  warnings.warn(CV_WARNING, FutureWarning)\n"
     ]
    }
   ],
   "source": [
    "# 初始化一个Ridge Cross-Validation Regression\n",
    "clf = linear_model.LassoCV(fit_intercept=False)\n",
    "\n",
    "# 训练模型\n",
    "clf.fit(x_train, y_train)\n",
    "\n",
    "print('alpha的数值 : ', clf.alpha_)"
   ]
  },
  {
   "cell_type": "code",
   "execution_count": 52,
   "metadata": {},
   "outputs": [
    {
     "name": "stdout",
     "output_type": "stream",
     "text": [
      "[-0.10983294  0.049805   -0.05382756  2.06396836 -1.86500987  3.73850198\n",
      " -0.02135944 -1.32033911  0.2667507  -0.01481666 -0.77176853  0.00945631\n",
      " -0.49564775]\n"
     ]
    }
   ],
   "source": [
    "# ridge\n",
    "# 建立一個線性回歸模型\n",
    "ridge = linear_model.Ridge(alpha=10)\n",
    "\n",
    "# 將訓練資料丟進去模型訓練\n",
    "ridge.fit(x_train, y_train)\n",
    "\n",
    "# 將測試資料丟進模型得到預測結果\n",
    "y_pred = regr.predict(x_test)\n",
    "# 印出 Ridge 的參數，可以很明顯看到比起 Linear Regression，參數的數值都明顯小了許多\n",
    "print(ridge.coef_)"
   ]
  },
  {
   "cell_type": "code",
   "execution_count": 53,
   "metadata": {},
   "outputs": [
    {
     "name": "stdout",
     "output_type": "stream",
     "text": [
      "Mean squared error: 25.42\n"
     ]
    }
   ],
   "source": [
    "# 預測值與實際值的差距，使用 MSE\n",
    "print(\"Mean squared error: %.2f\"\n",
    "      % mean_squared_error(y_test, y_pred))"
   ]
  },
  {
   "cell_type": "code",
   "execution_count": 54,
   "metadata": {},
   "outputs": [
    {
     "name": "stdout",
     "output_type": "stream",
     "text": [
      "alpha的数值 :  10.0\n"
     ]
    }
   ],
   "source": [
    "# 初始化一个Ridge Cross-Validation Regression\n",
    "clf = linear_model.RidgeCV(fit_intercept=False)\n",
    "\n",
    "# 训练模型\n",
    "clf.fit(x_train, y_train)\n",
    "\n",
    "print('alpha的数值 : ', clf.alpha_)"
   ]
  },
  {
   "cell_type": "code",
   "execution_count": null,
   "metadata": {},
   "outputs": [],
   "source": []
  }
 ],
 "metadata": {
  "kernelspec": {
   "display_name": "Python 3",
   "language": "python",
   "name": "python3"
  },
  "language_info": {
   "codemirror_mode": {
    "name": "ipython",
    "version": 3
   },
   "file_extension": ".py",
   "mimetype": "text/x-python",
   "name": "python",
   "nbconvert_exporter": "python",
   "pygments_lexer": "ipython3",
   "version": "3.6.8"
  }
 },
 "nbformat": 4,
 "nbformat_minor": 2
}
