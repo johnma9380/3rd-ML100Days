{
 "cells": [
  {
   "cell_type": "markdown",
   "metadata": {},
   "source": [
    "## [作業目標]\n",
    "了解機器學習適合應用的領域與範疇。"
   ]
  },
  {
   "cell_type": "markdown",
   "metadata": {},
   "source": [
    "## [作業重點]\n",
    "透過瞭解機器學習的運作方式，找出非常適用機器學習應用的領域及其原因"
   ]
  },
  {
   "cell_type": "markdown",
   "metadata": {},
   "source": [
    "## 作業\n",
    "請找出一個你認為機器學習可以發光發熱的領域並闡述原因? "
   ]
  },
  {
   "cell_type": "code",
   "execution_count": null,
   "metadata": {},
   "outputs": [],
   "source": [
    "只要是能協助人，讓人過得更加輕鬆都可以發光發熱\n",
    "汽車業 -- 講到汽車業就要說到自動駕駛，自動駕駛是趨勢，讓所有的駕駛者的專注力可以從方向盤中解放，讓駕駛可以有更多的實踐陪伴家人與接觸別的事物，\n",
    "          未來的車子有了自動駕駛，注重的可能不是操控性而是舒適空間，甚至者可能改變交通生態與城市交通的運作，\n",
    "          想像著未來的車子接照的路面上的虛擬軌道行走，並互相協調取得最佳路徑，而人類只需要坐在車裡做自已的事，直到車子抵達目的地，\n",
    "          但計程車司機可能會失業，這是科技進步不可避免的一環，\n"
   ]
  }
 ],
 "metadata": {
  "kernelspec": {
   "display_name": "Python 3",
   "language": "python",
   "name": "python3"
  },
  "language_info": {
   "codemirror_mode": {
    "name": "ipython",
    "version": 3
   },
   "file_extension": ".py",
   "mimetype": "text/x-python",
   "name": "python",
   "nbconvert_exporter": "python",
   "pygments_lexer": "ipython3",
   "version": "3.6.8"
  }
 },
 "nbformat": 4,
 "nbformat_minor": 2
}
